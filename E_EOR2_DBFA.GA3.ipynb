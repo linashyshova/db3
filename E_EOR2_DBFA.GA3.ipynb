{
 "cells": [
  {
   "cell_type": "markdown",
   "metadata": {
    "id": "GE-3ff-nC7Jd"
   },
   "source": [
    "# Database Fundamentals and Applications &ndash; Group Assignment 3"
   ]
  },
  {
   "cell_type": "markdown",
   "metadata": {},
   "source": [
    "In this assignment you will use SQL code to query `Yelp` from Python. You will use the SQL results to carry out several statistical analyses. You will be asked to discuss the results&mdash;**keep your answers brief; there is no need to write more than 2&ndash;4 sentences when interpreting results**.\n",
    "\n",
    "Documentation of the dataset can be found in the main PDF (`E_EOR2_DBFA.GA3.pdf`) with instructions, found on Canvas."
   ]
  },
  {
   "cell_type": "markdown",
   "metadata": {},
   "source": [
    "## Getting started"
   ]
  },
  {
   "cell_type": "markdown",
   "metadata": {},
   "source": [
    "### Connect Python to MySQL"
   ]
  },
  {
   "cell_type": "markdown",
   "metadata": {},
   "source": [
    "Before Python can connect to your MySQL Server, you need to install the MySQL-Python connector. Run the code below to install this connector."
   ]
  },
  {
   "cell_type": "code",
   "execution_count": 1,
   "metadata": {
    "colab": {
     "base_uri": "https://localhost:8080/"
    },
    "id": "6gbh4HKtC3Zu",
    "outputId": "e9ddec31-c10e-44ed-9187-2561c182790c",
    "ExecuteTime": {
     "end_time": "2023-12-09T10:04:20.845262Z",
     "start_time": "2023-12-09T10:04:16.969269Z"
    }
   },
   "outputs": [
    {
     "name": "stdout",
     "output_type": "stream",
     "text": [
      "Collecting mysql-connector-python\r\n",
      "  Downloading mysql_connector_python-8.2.0-cp310-cp310-macosx_12_0_arm64.whl.metadata (2.1 kB)\r\n",
      "Collecting protobuf<=4.21.12,>=4.21.1 (from mysql-connector-python)\r\n",
      "  Downloading protobuf-4.21.12-cp37-abi3-macosx_10_9_universal2.whl (486 kB)\r\n",
      "\u001B[2K     \u001B[90m━━━━━━━━━━━━━━━━━━━━━━━━━━━━━━━━━━━━━━━\u001B[0m \u001B[32m486.2/486.2 kB\u001B[0m \u001B[31m5.4 MB/s\u001B[0m eta \u001B[36m0:00:00\u001B[0m00:01\u001B[0m00:01\u001B[0m\r\n",
      "\u001B[?25hDownloading mysql_connector_python-8.2.0-cp310-cp310-macosx_12_0_arm64.whl (14.5 MB)\r\n",
      "\u001B[2K   \u001B[90m━━━━━━━━━━━━━━━━━━━━━━━━━━━━━━━━━━━━━━━━\u001B[0m \u001B[32m14.5/14.5 MB\u001B[0m \u001B[31m10.8 MB/s\u001B[0m eta \u001B[36m0:00:00\u001B[0m00:01\u001B[0m0:01\u001B[0m\r\n",
      "\u001B[?25hInstalling collected packages: protobuf, mysql-connector-python\r\n",
      "Successfully installed mysql-connector-python-8.2.0 protobuf-4.21.12\r\n"
     ]
    }
   ],
   "source": [
    "# install mysql connector\n",
    "!pip install mysql-connector-python"
   ]
  },
  {
   "cell_type": "markdown",
   "metadata": {},
   "source": [
    "Please run the cell below to load all the necessary packages for this assignment. "
   ]
  },
  {
   "cell_type": "code",
   "execution_count": 3,
   "metadata": {
    "id": "gxftrR6GEMHU",
    "ExecuteTime": {
     "end_time": "2023-12-09T10:05:34.686902Z",
     "start_time": "2023-12-09T10:05:33.351607Z"
    }
   },
   "outputs": [],
   "source": [
    "# import packages\n",
    "import os\n",
    "import mysql.connector\n",
    "import pandas as pd\n",
    "import numpy as np\n",
    "import matplotlib.pyplot as plt\n",
    "import seaborn as sns\n",
    "import scipy.stats as stats\n",
    "import statsmodels.api as sma\n",
    "%matplotlib inline"
   ]
  },
  {
   "cell_type": "markdown",
   "metadata": {},
   "source": [
    "Use the code below to make a connection to the database on your local MySQL Server. **Do not forget to enter your password in the code below!**"
   ]
  },
  {
   "cell_type": "code",
   "execution_count": 5,
   "metadata": {
    "colab": {
     "base_uri": "https://localhost:8080/",
     "height": 545
    },
    "id": "wzcFUIDcEQAd",
    "outputId": "c71bc85c-b329-41c8-ff62-a67afbaa9bca",
    "ExecuteTime": {
     "end_time": "2023-12-09T10:07:52.814578Z",
     "start_time": "2023-12-09T10:07:52.793556Z"
    }
   },
   "outputs": [],
   "source": [
    "# connect to Yelp\n",
    "connection = mysql.connector.connect(host = \"localhost\",\n",
    "                                     user = \"root\",\n",
    "                                     password = \"ttNd99fw\", # do not forget to enter your password!\n",
    "                                     db = \"Yelp\")"
   ]
  },
  {
   "cell_type": "markdown",
   "metadata": {},
   "source": [
    "**If you run into errors executing the code above, try restaring the kernel**: in the 'Kernel' menu, click 'Restart'. If this does not help, try installing the newest MySQL-Python connector from https://dev.mysql.com/downloads/connector/python/8.0.html. Do not forget to restart the kernel after installation."
   ]
  },
  {
   "cell_type": "markdown",
   "metadata": {},
   "source": [
    "### Using Pandas' read_sql_query() to extract data from MySQL"
   ]
  },
  {
   "cell_type": "markdown",
   "metadata": {},
   "source": [
    "In this assignment, we recommend you mix SQL statements with the functionalities of Python's Pandas package as well as a few other packages to extract, clean, and reshape data. The code below demostrates how to execute a SQL statement using Pandas, and extract a DataFrame."
   ]
  },
  {
   "cell_type": "code",
   "execution_count": null,
   "metadata": {
    "id": "YIx5NYLeEsQa"
   },
   "outputs": [],
   "source": [
    "# select first 10k rows from Businesses\n",
    "data = pd.read_sql_query(\"SELECT * \\\n",
    "                          FROM Businesses \\\n",
    "                          LIMIT 10000\",\n",
    "                         connection)\n",
    "# let's inspect the data\n",
    "data.head()"
   ]
  },
  {
   "cell_type": "markdown",
   "metadata": {},
   "source": [
    "If everything works as it is supposed to, you should now see a table with 11 columns. Now you are ready to start the actual work on Group Assignment 3!"
   ]
  },
  {
   "cell_type": "markdown",
   "metadata": {},
   "source": [
    "## Part 1\n",
    "\n",
    "You have been asked to provide an overview of the reviews left by Yelp users. In particular, we are interested to investigate:\n",
    "\n",
    "1.1 the number of reviews left in January, February, etc., aggregated across all years;\n",
    "\n",
    "1.2 the evolution over time, of the number of reviews left per month;\n",
    "\n",
    "1.3 difference in average star rating of reviews left in the morning, afternoon, evening, and at night; and\n",
    "\n",
    "1.4 the relationship between number of reviews left by a user and how many stars they tend to give."
   ]
  },
  {
   "cell_type": "markdown",
   "metadata": {},
   "source": [
    "### 1.1 Number of reviews left in January, February, etc. (1 point)\n",
    "\n",
    "- SQL: Write a SELECT statement that counts the number of reviews left in each month, aggregated across all years. So how many reviews have been left in January across all years, in February across all years, etc. Use SQL's `MONTH()` function to convert the timestamp in attribute `date` to a number beween 1 and 12, where 1 corresponds to January and 12 to December, and use this number to group by, and to order by.\n",
    "- Python: Execute the SQL query. Visualise the data in the resulting DataFrame using a bar plot.\n",
    "- Comment on the results: In which month are most reviews left? And in which month the fewest?"
   ]
  },
  {
   "cell_type": "code",
   "execution_count": null,
   "metadata": {},
   "outputs": [],
   "source": [
    "# extract required data\n",
    "reviews_by_month = pd.read_sql_query(\"SELECT MONTH(date) as Month, COUNT(*) as count \\\n",
    "                          FROM Reviews \\\n",
    "                          GROUP BY Month ORDER BY Month\",\n",
    "                          connection)\n",
    "reviews_by_month"
   ]
  },
  {
   "cell_type": "code",
   "execution_count": null,
   "metadata": {},
   "outputs": [],
   "source": [
    "# visualise the results with a barplot, with stars (x-axis) and counts (y-axis)\n",
    "sns.barplot(data = reviews_by_month,\n",
    "           x = \"Month\",\n",
    "           y = \"count\")"
   ]
  },
  {
   "cell_type": "markdown",
   "metadata": {},
   "source": [
    "**Your discussion:**\n",
    "Across all years least of all reviews are left in December and most is left in July."
   ]
  },
  {
   "cell_type": "markdown",
   "metadata": {},
   "source": [
    "### 1.2 Evolution of reviews per month over time (1 point)\n",
    "\n",
    "- SQL: Write a SELECT statement that counts the number of reviews left in each month of each year. Use SQL's `MONTH()` and `YEAR()` functions to convert the timestamp in attribute `date` to a month and year attribute (both as a number). Group and order by these two attributes. Think carefully about the order of appearance: should you first order by year and then by month? Or the other way around?\n",
    "- Python: Execute the SQL query. Visualise the data in the resulting DataFrame using a line plot.\n",
    "- Comment on the results: How are the number of monthly reviews developing over time? And do you see the same seasonalities as in the previous question?"
   ]
  },
  {
   "cell_type": "code",
   "execution_count": 28,
   "metadata": {
    "scrolled": true,
    "ExecuteTime": {
     "end_time": "2023-12-09T10:55:53.768679Z",
     "start_time": "2023-12-09T10:55:53.289015Z"
    }
   },
   "outputs": [
    {
     "name": "stderr",
     "output_type": "stream",
     "text": [
      "/var/folders/g7/zwq0_rkx69s36_nrdsxf6rnm0000gn/T/ipykernel_63039/2565775333.py:2: UserWarning: pandas only supports SQLAlchemy connectable (engine/connection) or database string URI or sqlite3 DBAPI2 connection. Other DBAPI2 objects are not tested. Please consider using SQLAlchemy.\n",
      "  reviews_by_month_and_year = pd.read_sql_query(\"SELECT YEAR(date) as year, MONTH(date) as month, COUNT(*) as count \\\n"
     ]
    },
    {
     "data": {
      "text/plain": "     year  month  count\n0    2004     10      1\n1    2004     12      1\n2    2005      1      2\n3    2005      3      7\n4    2005      4     12\n..    ...    ...    ...\n175  2019      7  21902\n176  2019      8  21917\n177  2019      9  19156\n178  2019     10  17880\n179  2019     11  13957\n\n[180 rows x 3 columns]",
      "text/html": "<div>\n<style scoped>\n    .dataframe tbody tr th:only-of-type {\n        vertical-align: middle;\n    }\n\n    .dataframe tbody tr th {\n        vertical-align: top;\n    }\n\n    .dataframe thead th {\n        text-align: right;\n    }\n</style>\n<table border=\"1\" class=\"dataframe\">\n  <thead>\n    <tr style=\"text-align: right;\">\n      <th></th>\n      <th>year</th>\n      <th>month</th>\n      <th>count</th>\n    </tr>\n  </thead>\n  <tbody>\n    <tr>\n      <th>0</th>\n      <td>2004</td>\n      <td>10</td>\n      <td>1</td>\n    </tr>\n    <tr>\n      <th>1</th>\n      <td>2004</td>\n      <td>12</td>\n      <td>1</td>\n    </tr>\n    <tr>\n      <th>2</th>\n      <td>2005</td>\n      <td>1</td>\n      <td>2</td>\n    </tr>\n    <tr>\n      <th>3</th>\n      <td>2005</td>\n      <td>3</td>\n      <td>7</td>\n    </tr>\n    <tr>\n      <th>4</th>\n      <td>2005</td>\n      <td>4</td>\n      <td>12</td>\n    </tr>\n    <tr>\n      <th>...</th>\n      <td>...</td>\n      <td>...</td>\n      <td>...</td>\n    </tr>\n    <tr>\n      <th>175</th>\n      <td>2019</td>\n      <td>7</td>\n      <td>21902</td>\n    </tr>\n    <tr>\n      <th>176</th>\n      <td>2019</td>\n      <td>8</td>\n      <td>21917</td>\n    </tr>\n    <tr>\n      <th>177</th>\n      <td>2019</td>\n      <td>9</td>\n      <td>19156</td>\n    </tr>\n    <tr>\n      <th>178</th>\n      <td>2019</td>\n      <td>10</td>\n      <td>17880</td>\n    </tr>\n    <tr>\n      <th>179</th>\n      <td>2019</td>\n      <td>11</td>\n      <td>13957</td>\n    </tr>\n  </tbody>\n</table>\n<p>180 rows × 3 columns</p>\n</div>"
     },
     "execution_count": 28,
     "metadata": {},
     "output_type": "execute_result"
    }
   ],
   "source": [
    "# extract required data\n",
    "reviews_by_month_and_year = pd.read_sql_query(\"SELECT YEAR(date) as year, MONTH(date) as month, COUNT(*) as count \\\n",
    "                          FROM Reviews \\\n",
    "                          GROUP BY year, month ORDER BY year, month\",\n",
    "                          connection)\n",
    "reviews_by_month_and_year"
   ]
  },
  {
   "cell_type": "code",
   "execution_count": 27,
   "metadata": {
    "scrolled": true,
    "ExecuteTime": {
     "end_time": "2023-12-09T10:53:15.447971Z",
     "start_time": "2023-12-09T10:53:15.385499Z"
    }
   },
   "outputs": [
    {
     "data": {
      "text/plain": "<Figure size 640x480 with 1 Axes>",
      "image/png": "[encoded data removed]"
     },
     "metadata": {},
     "output_type": "display_data"
    }
   ],
   "source": [
    "# visualise the results with a line plot, with stars (x-axis) and counts (y-axis)\n",
    "plt.plot(reviews_by_month_and_year[\"count\"])\n",
    "plt.title(\"Monthly reviews over time\")\n",
    "plt.xlabel(\"Time $t$ in months, starting from October 2004 ($t=0$)\")\n",
    "plt.ylabel(\"Number of reviews left per month\")\n",
    "plt.show()"
   ]
  },
  {
   "cell_type": "markdown",
   "metadata": {},
   "source": [
    "**Your discussion:**\n",
    "We can see a steady increase in number of reviews left over time. At the beginning some month didn't even have any reviews at all.\n",
    "And in 10 years monthly level of reviews surpassed 10.000.\n",
    "Yes, the same seasonality as in previous question can be seen, with peak around July and decrease until the end of the end of the year."
   ]
  },
  {
   "cell_type": "markdown",
   "metadata": {},
   "source": [
    "### 1.3 Average star rating of reviews left in the morning, afternoon, evening, and at night (2 points)"
   ]
  },
  {
   "cell_type": "markdown",
   "metadata": {},
   "source": [
    "- SQL: Write a SELECT statement that returns for each review the number of `stars` as well as another attribute called `daypart` which equals 'Night' in case the review was left before 06:00, 'Morning' if left before '12:00', 'Afternoon' if left before '18:00', and 'Evening' otherwise. You may find a `CASE WHEN END` statement and `HOUR()` useful to carry out this task.\n",
    "- Python: Execute the SQL query. Transform the `daypart` column into a set of four dummy variables. Choose 'Morning' as base category. Regress `stars` on an intercept and the dummies for 'Afternoon', 'Evening', and 'Night'. Report the coefficient and their *t*-test statistics.\n",
    "- Comment on the results: Are the differences across parts of the day different? When are the most favourable reviews left? And when the least favourable?"
   ]
  },
  {
   "cell_type": "code",
   "execution_count": 34,
   "metadata": {
    "ExecuteTime": {
     "end_time": "2023-12-09T11:11:43.389232Z",
     "start_time": "2023-12-09T11:11:42.630819Z"
    }
   },
   "outputs": [
    {
     "name": "stderr",
     "output_type": "stream",
     "text": [
      "/var/folders/g7/zwq0_rkx69s36_nrdsxf6rnm0000gn/T/ipykernel_63039/567085199.py:2: UserWarning: pandas only supports SQLAlchemy connectable (engine/connection) or database string URI or sqlite3 DBAPI2 connection. Other DBAPI2 objects are not tested. Please consider using SQLAlchemy.\n",
      "  data = pd.read_sql_query(\"SELECT stars, \\\n"
     ]
    },
    {
     "data": {
      "text/plain": "         stars    daypart\n0            2    Evening\n1            4    Evening\n2            4  Afternoon\n3            1    Evening\n4            5      Night\n...        ...        ...\n1489995      5    Evening\n1489996      4    Evening\n1489997      5    Evening\n1489998      5      Night\n1489999      2  Afternoon\n\n[1490000 rows x 2 columns]",
      "text/html": "<div>\n<style scoped>\n    .dataframe tbody tr th:only-of-type {\n        vertical-align: middle;\n    }\n\n    .dataframe tbody tr th {\n        vertical-align: top;\n    }\n\n    .dataframe thead th {\n        text-align: right;\n    }\n</style>\n<table border=\"1\" class=\"dataframe\">\n  <thead>\n    <tr style=\"text-align: right;\">\n      <th></th>\n      <th>stars</th>\n      <th>daypart</th>\n    </tr>\n  </thead>\n  <tbody>\n    <tr>\n      <th>0</th>\n      <td>2</td>\n      <td>Evening</td>\n    </tr>\n    <tr>\n      <th>1</th>\n      <td>4</td>\n      <td>Evening</td>\n    </tr>\n    <tr>\n      <th>2</th>\n      <td>4</td>\n      <td>Afternoon</td>\n    </tr>\n    <tr>\n      <th>3</th>\n      <td>1</td>\n      <td>Evening</td>\n    </tr>\n    <tr>\n      <th>4</th>\n      <td>5</td>\n      <td>Night</td>\n    </tr>\n    <tr>\n      <th>...</th>\n      <td>...</td>\n      <td>...</td>\n    </tr>\n    <tr>\n      <th>1489995</th>\n      <td>5</td>\n      <td>Evening</td>\n    </tr>\n    <tr>\n      <th>1489996</th>\n      <td>4</td>\n      <td>Evening</td>\n    </tr>\n    <tr>\n      <th>1489997</th>\n      <td>5</td>\n      <td>Evening</td>\n    </tr>\n    <tr>\n      <th>1489998</th>\n      <td>5</td>\n      <td>Night</td>\n    </tr>\n    <tr>\n      <th>1489999</th>\n      <td>2</td>\n      <td>Afternoon</td>\n    </tr>\n  </tbody>\n</table>\n<p>1490000 rows × 2 columns</p>\n</div>"
     },
     "execution_count": 34,
     "metadata": {},
     "output_type": "execute_result"
    }
   ],
   "source": [
    "# extract the required data\n",
    "data = pd.read_sql_query(\"SELECT stars, \\\n",
    "                         CASE \\\n",
    "                            WHEN HOUR(date) < 6 THEN 'Night' \\\n",
    "                            WHEN HOUR(date) < 12 THEN 'Morning' \\\n",
    "                            WHEN HOUR(date) < 18 THEN 'Afternoon' \\\n",
    "                            ELSE 'Evening' \\\n",
    "                         END AS daypart \\\n",
    "                         FROM Reviews\",\n",
    "                         connection)\n",
    "data"
   ]
  },
  {
   "cell_type": "code",
   "execution_count": 59,
   "metadata": {
    "ExecuteTime": {
     "end_time": "2023-12-09T11:47:42.127423Z",
     "start_time": "2023-12-09T11:47:41.849955Z"
    }
   },
   "outputs": [
    {
     "name": "stdout",
     "output_type": "stream",
     "text": [
      "                            OLS Regression Results                            \n",
      "==============================================================================\n",
      "Dep. Variable:                  stars   R-squared:                       0.000\n",
      "Model:                            OLS   Adj. R-squared:                  0.000\n",
      "Method:                 Least Squares   F-statistic:                     164.8\n",
      "Date:                Sat, 09 Dec 2023   Prob (F-statistic):          8.04e-107\n",
      "Time:                        12:47:42   Log-Likelihood:            -2.7082e+06\n",
      "No. Observations:             1490000   AIC:                         5.416e+06\n",
      "Df Residuals:                 1489996   BIC:                         5.416e+06\n",
      "Df Model:                           3                                         \n",
      "Covariance Type:            nonrobust                                         \n",
      "==============================================================================\n",
      "                 coef    std err          t      P>|t|      [0.025      0.975]\n",
      "------------------------------------------------------------------------------\n",
      "const          3.6100      0.004    802.752      0.000       3.601       3.619\n",
      "Afternoon      0.0924      0.005     17.665      0.000       0.082       0.103\n",
      "Evening        0.1071      0.005     21.815      0.000       0.097       0.117\n",
      "Night          0.1016      0.005     20.451      0.000       0.092       0.111\n",
      "==============================================================================\n",
      "Omnibus:                   297031.077   Durbin-Watson:                   1.999\n",
      "Prob(Omnibus):                  0.000   Jarque-Bera (JB):           201617.710\n",
      "Skew:                          -0.790   Prob(JB):                         0.00\n",
      "Kurtosis:                       2.132   Cond. No.                         8.65\n",
      "==============================================================================\n",
      "\n",
      "Notes:\n",
      "[1] Standard Errors assume that the covariance matrix of the errors is correctly specified.\n"
     ]
    }
   ],
   "source": [
    "# create dummies from the daypart attribute\n",
    "dummies = pd.get_dummies(data[\"daypart\"], dtype=int)\n",
    "# regress stars on 3 out of 4 dummies and the intercept\n",
    "model = sma.OLS(data[\"stars\"], sma.add_constant(dummies[[\"Afternoon\", \"Evening\", \"Night\"]])).fit()\n",
    "# report the regression summary\n",
    "print(model.summary())"
   ]
  },
  {
   "cell_type": "markdown",
   "metadata": {},
   "source": [
    "**Your discussion:** "
   ]
  },
  {
   "cell_type": "markdown",
   "metadata": {},
   "source": [
    "### 1.4 Relationship between number of reviews and stars (1 point)\n",
    "\n",
    "- SQL: Write a SELECT statement that, for each review, returns `stars`, as well as the total number of reviews written by the user who left that particular review. Hint: use a window function. Exclude users that joined less than a year before the user that was latest to join as a reviewer. Users that have never left a review should also be ignored. \n",
    "- Python: Execute the SQL query. **Warning!** Due to the size of data, this query can easily take up to 15 minutes to run. Use a pie chart to visualise the star distribution among users that have left only 1 review. Create the same type of pie chart for users that have left 10 or more reviews.\n",
    "- Comment on the result: What main differences do you see between the two pie charts?"
   ]
  },
  {
   "cell_type": "code",
   "execution_count": null,
   "metadata": {},
   "outputs": [],
   "source": [
    "# extract the required data\n"
   ]
  },
  {
   "cell_type": "code",
   "execution_count": null,
   "metadata": {},
   "outputs": [],
   "source": [
    "# create the two pie charts\n",
    "data_1_review = data[data.no_reviews == ...]\n",
    "data_1_grouped = data_1_review.groupby(\"stars\").count().reset_index()\n",
    "data_10_reviews = data[data.no_reviews >= ...]\n",
    "data_10_grouped = data_10_reviews.groupby(\"stars\").count().reset_index()\n",
    "\n",
    "plt.pie(x = data_1_grouped.no_reviews, labels = data_1_grouped.stars)\n",
    "plt.title(\"1 review\")\n",
    "plt.show()\n",
    "\n",
    "..."
   ]
  },
  {
   "cell_type": "markdown",
   "metadata": {},
   "source": [
    "**Your discussion:** "
   ]
  },
  {
   "cell_type": "markdown",
   "metadata": {},
   "source": [
    "## Part 2"
   ]
  },
  {
   "cell_type": "markdown",
   "metadata": {},
   "source": [
    "You are now asked to provide an overview of businesses and their categories. In particular, we are interested to see\n",
    "- the most common business categories,\n",
    "- the distribution of average star rating per category, and\n",
    "- if there are any significant differences between categories in terms of star rating."
   ]
  },
  {
   "cell_type": "markdown",
   "metadata": {},
   "source": [
    "### 2.1 Top categories (2 points)"
   ]
  },
  {
   "cell_type": "markdown",
   "metadata": {},
   "source": [
    "- SQL: Write a SELECT statement that returns the categories column from the Businesses table. To cut down on the amount of data, randomly sample around 5% of the data in this table. For this sampling, you may find this useful: https://phpfog.com/select-random-sample-records-mysql/. Make sure to remove rows with missing categories values.\n",
    "- Python: Execute the SQL query. The categories column has a list of categories that each business falls under. Extract every category name from each row list and store it in one big list. Display the 5 most common categories and their counts. Here, you might find these links useful: https://www.w3schools.com/python/ref_string_split.asp; https://docs.python.org/3/library/collections.html#collections.Counter.most_common."
   ]
  },
  {
   "cell_type": "code",
   "execution_count": null,
   "metadata": {},
   "outputs": [],
   "source": [
    "# extract the required data\n"
   ]
  },
  {
   "cell_type": "code",
   "execution_count": null,
   "metadata": {},
   "outputs": [],
   "source": [
    "# extract separate categories from categories list column\n"
   ]
  },
  {
   "cell_type": "code",
   "execution_count": null,
   "metadata": {},
   "outputs": [],
   "source": [
    "# give counts of the 5 most common categories\n"
   ]
  },
  {
   "cell_type": "markdown",
   "metadata": {},
   "source": [
    "### 2.2 Review differences between top categories (2 points)"
   ]
  },
  {
   "cell_type": "markdown",
   "metadata": {},
   "source": [
    "- SQL: Write a SELECT statement that returns an average rating of each business. Create an extra column that returns only one category based on what is contained in the categories column list. The five categories that interest us are (sorted from most to least important): (1) 'Restaurants', (2) 'Shopping', (3) 'Food', (4) 'Home Services', (5) 'Beauty & Spas'. E.g. if the list of the categories column includes the word 'Restaurants' your column should return only 'Restaurants' and ignore any other categories in the list. If, for example, the categories list contains ['Shopping', 'Food', 'Restaurants'] your column should only return 'Restaurants'. You may find the LIKE and CASE WHEN statements useful to carry out the task. Businesses that have less than 5 reviews or do not fall into any category we are interested in should be ignored.\n",
    "- Python: Execute the SQL query. **Warning!** Due to the size of data, this query can easily take up to 15 minutes to run. Visualise the distribution of average star reviews for each category in seperate plots. Describe what you observe."
   ]
  },
  {
   "cell_type": "code",
   "execution_count": null,
   "metadata": {},
   "outputs": [],
   "source": [
    "# extract the required data\n"
   ]
  },
  {
   "cell_type": "code",
   "execution_count": null,
   "metadata": {},
   "outputs": [],
   "source": [
    "# visualise the distribution of average star rating with 5 separate histograms (for each category)\n"
   ]
  },
  {
   "cell_type": "markdown",
   "metadata": {},
   "source": [
    "**Your discussion:**"
   ]
  },
  {
   "cell_type": "markdown",
   "metadata": {},
   "source": [
    "### This brings us to the end of Group Assignment 3. Do not forget to save your Jupyter Notebook!"
   ]
  }
 ],
 "metadata": {
  "colab": {
   "collapsed_sections": [],
   "name": "Yelp-assignment.ipynb",
   "provenance": []
  },
  "kernelspec": {
   "display_name": "Python 3",
   "language": "python",
   "name": "python3"
  },
  "language_info": {
   "codemirror_mode": {
    "name": "ipython",
    "version": 3
   },
   "file_extension": ".py",
   "mimetype": "text/x-python",
   "name": "python",
   "nbconvert_exporter": "python",
   "pygments_lexer": "ipython3",
   "version": "3.8.5"
  }
 },
 "nbformat": 4,
 "nbformat_minor": 4
}
